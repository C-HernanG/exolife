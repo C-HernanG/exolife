{
 "cells": [
  {
   "cell_type": "code",
   "execution_count": 2,
   "id": "22bcb615-ce1b-46be-a06d-90bd46f576a5",
   "metadata": {},
   "outputs": [],
   "source": [
    "from exolife.data import DATA_SOURCES, fetch_all, load_all, get_data_dir"
   ]
  },
  {
   "cell_type": "code",
   "execution_count": 3,
   "id": "6ab6dc8a-c41a-40db-ac49-dff41ff8613d",
   "metadata": {},
   "outputs": [
    {
     "name": "stdout",
     "output_type": "stream",
     "text": [
      "dict_keys(['nasa_exoplanet_archive', 'habitable_worlds_catalog', 'gaia_dr3_sample'])\n"
     ]
    }
   ],
   "source": [
    "print(DATA_SOURCES.keys())     "
   ]
  }
 ],
 "metadata": {
  "kernelspec": {
   "display_name": "Python (Exolife)",
   "language": "python",
   "name": "exolife"
  },
  "language_info": {
   "codemirror_mode": {
    "name": "ipython",
    "version": 3
   },
   "file_extension": ".py",
   "mimetype": "text/x-python",
   "name": "python",
   "nbconvert_exporter": "python",
   "pygments_lexer": "ipython3",
   "version": "3.11.13"
  }
 },
 "nbformat": 4,
 "nbformat_minor": 5
}
